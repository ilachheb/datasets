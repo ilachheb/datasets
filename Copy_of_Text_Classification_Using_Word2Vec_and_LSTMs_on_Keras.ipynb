{
  "nbformat": 4,
  "nbformat_minor": 0,
  "metadata": {
    "kernelspec": {
      "display_name": "Python 3",
      "language": "python",
      "name": "python3"
    },
    "language_info": {
      "codemirror_mode": {
        "name": "ipython",
        "version": 3
      },
      "file_extension": ".py",
      "mimetype": "text/x-python",
      "name": "python",
      "nbconvert_exporter": "python",
      "pygments_lexer": "ipython3",
      "version": "3.7.3"
    },
    "colab": {
      "name": "Copy of Text Classification Using Word2Vec and LSTMs on Keras.ipynb",
      "provenance": [],
      "collapsed_sections": [],
      "toc_visible": true,
      "include_colab_link": true
    }
  },
  "cells": [
    {
      "cell_type": "markdown",
      "metadata": {
        "id": "view-in-github",
        "colab_type": "text"
      },
      "source": [
        "<a href=\"https://colab.research.google.com/github/ilachheb/datasets/blob/master/Copy_of_Text_Classification_Using_Word2Vec_and_LSTMs_on_Keras.ipynb\" target=\"_parent\"><img src=\"https://colab.research.google.com/assets/colab-badge.svg\" alt=\"Open In Colab\"/></a>"
      ]
    },
    {
      "cell_type": "markdown",
      "metadata": {
        "id": "xSMtpxUVOHYK"
      },
      "source": [
        "**Sentiment classification** is the automated process of identifying opinions in text and labeling them as positive, negative, or neutral, based on the emotions customers express within them.\n",
        "![movie_reviews.jpg](attachment:movie_reviews.jpg)"
      ]
    },
    {
      "cell_type": "markdown",
      "metadata": {
        "id": "UjwpmkolOHYL"
      },
      "source": [
        "**Transfer learning** is a machine learning method where a model developed for a task is reused as the starting point for a model on a second task!\n",
        "\n",
        "**Word Embeddings** Definition Word embeddings are a type of word representation that look at the context of words which allows words with similar meaning to have a similar vector representation.\n",
        "\n",
        "\n",
        "1. Each word is represented as  a vector.\n",
        "\n",
        "2. Each word is mapped to one vector and the vector values are learned in a way that resembles a neural network.\n",
        "\n",
        "3. They can be considered an improvement over sparse representations used in simpler bag of word model representations.\n",
        "\n",
        "**Word2Vec**\n",
        "\n",
        "Word2Vec is a shallow, two-layer neural networks which is trained to reconstruct linguistic contexts of words.\n",
        "Input: Large Corpus of words\n",
        "\n",
        "\n",
        "Output: Vector Space, with each unique word in the corpus being assigned a corresponding vector in the space.\n",
        "\n",
        "\n",
        "Word vectors are positioned in the vector space such that words that share common contexts in the corpus are located in close proximity to one another in the space.\n",
        "\n",
        "\n",
        "**Deep Network** Deep network takes the sequence of embedding vectors as input and converts them to a compressed representation. The compressed representation effectively captures all the information in the sequence of words in the text. The deep neywrok part is usually an RNN or some forms of it like LSTM/GRU. The dropout is added to overcome the tendency to overfit, a very common problem with RNN based networks.\n",
        "\n",
        "**Recurrent Neural Networks** Recurrent Neural Networks are used to handle sequential data. One of the appeals of RNNs is the idea that they might be able to connect previous information to the present task, such as using previous video frames/words might inform the understanding of the present frame/words. \n",
        "\n",
        "\n",
        "Sometimes, we only need to look at recent information to perform the present task. But Unfortunately, as that gap grows, RNNs become unable to learn to connect the information.\n",
        "\n",
        "Standard RNNs fail to learn in the presence of time lags greater than 5 – 10 discrete time steps between relevant input events and target signals. The vanishing error problem casts doubt on whether standard RNNs can indeed exhibit significant practical advantages over time window-based feedforward networks. A recent model, “Long Short-Term Memory” (LSTM), is not affected by this problem. LSTM can learn to bridge minimal time lags in excess of 1000 discrete time steps by enforcing constant error flow through “constant error carrousels” (CECs) within special units, called cells\n",
        "\n",
        "**LSTM** Long Short Term Memory networks – usually just called “LSTMs” – are a special kind of RNN, capable of learning long-term dependencies. LSTMs are explicitly designed to avoid the long-term dependency problem. Remembering information for long periods of time is practically their default behavior, not something they struggle to learn!\n",
        "\n",
        "![lstm_cropped.png](attachment:lstm_cropped.png)"
      ]
    },
    {
      "cell_type": "code",
      "metadata": {
        "colab": {
          "base_uri": "https://localhost:8080/"
        },
        "id": "4HVVC4G_OHYL",
        "outputId": "9929eaca-8ae1-4a7e-d3d0-a4c40ccd66e0"
      },
      "source": [
        "import matplotlib.pyplot as plt\n",
        "import pandas as pd\n",
        "import os\n",
        "import numpy as np\n",
        "import nltk\n",
        "import string\n",
        "from gensim.models import Word2Vec\n",
        "from nltk.tokenize import word_tokenize\n",
        "from nltk.corpus import stopwords\n",
        "nltk.download('stopwords')\n",
        "nltk.download('punkt')"
      ],
      "execution_count": null,
      "outputs": [
        {
          "output_type": "stream",
          "text": [
            "[nltk_data] Downloading package stopwords to /root/nltk_data...\n",
            "[nltk_data]   Package stopwords is already up-to-date!\n",
            "[nltk_data] Downloading package punkt to /root/nltk_data...\n",
            "[nltk_data]   Package punkt is already up-to-date!\n"
          ],
          "name": "stdout"
        },
        {
          "output_type": "execute_result",
          "data": {
            "text/plain": [
              "True"
            ]
          },
          "metadata": {
            "tags": []
          },
          "execution_count": 17
        }
      ]
    },
    {
      "cell_type": "markdown",
      "metadata": {
        "id": "NbPzx15VOHYL"
      },
      "source": [
        "## Loading Data "
      ]
    },
    {
      "cell_type": "code",
      "metadata": {
        "colab": {
          "base_uri": "https://localhost:8080/",
          "height": 204
        },
        "id": "jAjIQwyROHYL",
        "outputId": "2b9eb535-107b-4cdf-9561-f86ba19ab247"
      },
      "source": [
        "df = pd.read_csv('IMDB_movie_reviews.csv', encoding = 'utf-8')\n",
        "df.head()"
      ],
      "execution_count": null,
      "outputs": [
        {
          "output_type": "execute_result",
          "data": {
            "text/html": [
              "<div>\n",
              "<style scoped>\n",
              "    .dataframe tbody tr th:only-of-type {\n",
              "        vertical-align: middle;\n",
              "    }\n",
              "\n",
              "    .dataframe tbody tr th {\n",
              "        vertical-align: top;\n",
              "    }\n",
              "\n",
              "    .dataframe thead th {\n",
              "        text-align: right;\n",
              "    }\n",
              "</style>\n",
              "<table border=\"1\" class=\"dataframe\">\n",
              "  <thead>\n",
              "    <tr style=\"text-align: right;\">\n",
              "      <th></th>\n",
              "      <th>review</th>\n",
              "      <th>sentiment</th>\n",
              "    </tr>\n",
              "  </thead>\n",
              "  <tbody>\n",
              "    <tr>\n",
              "      <th>0</th>\n",
              "      <td>I went and saw this movie last night after bei...</td>\n",
              "      <td>1</td>\n",
              "    </tr>\n",
              "    <tr>\n",
              "      <th>1</th>\n",
              "      <td>Actor turned director Bill Paxton follows up h...</td>\n",
              "      <td>1</td>\n",
              "    </tr>\n",
              "    <tr>\n",
              "      <th>2</th>\n",
              "      <td>As a recreational golfer with some knowledge o...</td>\n",
              "      <td>1</td>\n",
              "    </tr>\n",
              "    <tr>\n",
              "      <th>3</th>\n",
              "      <td>I saw this film in a sneak preview, and it is ...</td>\n",
              "      <td>1</td>\n",
              "    </tr>\n",
              "    <tr>\n",
              "      <th>4</th>\n",
              "      <td>Bill Paxton has taken the true story of the 19...</td>\n",
              "      <td>1</td>\n",
              "    </tr>\n",
              "  </tbody>\n",
              "</table>\n",
              "</div>"
            ],
            "text/plain": [
              "                                              review  sentiment\n",
              "0  I went and saw this movie last night after bei...          1\n",
              "1  Actor turned director Bill Paxton follows up h...          1\n",
              "2  As a recreational golfer with some knowledge o...          1\n",
              "3  I saw this film in a sneak preview, and it is ...          1\n",
              "4  Bill Paxton has taken the true story of the 19...          1"
            ]
          },
          "metadata": {
            "tags": []
          },
          "execution_count": 18
        }
      ]
    },
    {
      "cell_type": "markdown",
      "metadata": {
        "id": "G_l05YvrOHYM"
      },
      "source": [
        "\n",
        "# Data Preprocessing\n",
        "\n",
        "1. **Tokenization** is a way of separating a piece of text into smaller units called tokens. Here, tokens can be either words, characters, or subwords.\n",
        "\n",
        "2. Removing **Punctuations**\n",
        "\n",
        "3. Removing tokens which are not alphabetic\n",
        "\n",
        "4. **Stopwords Removal**: A stop word is a commonly used word (such as “the”, “a”, “an”, “in”) \n",
        "\n",
        "\n"
      ]
    },
    {
      "cell_type": "code",
      "metadata": {
        "id": "cg0NKqOgOHYM"
      },
      "source": [
        "import string\n",
        "from nltk.tokenize import word_tokenize\n",
        "from nltk.corpus import stopwords\n",
        "\n",
        "review_lines = list()\n",
        "\n",
        "lines = df['review'].values.tolist()\n",
        "\n",
        "for line in lines:\n",
        "  tokens = word_tokenize(line)\n",
        "  tokens = [word.lower() for word in tokens]\n",
        "  table = str.maketrans('','', string.punctuation)\n",
        "  stripped = [w.translate(table) for w in tokens]\n",
        "  words = [word for word in stripped if word.isalpha()]\n",
        "  stop_words = set(stopwords.words('english'))\n",
        "  words = [w for w in words if not w in stop_words]\n",
        "  review_lines.append(words)"
      ],
      "execution_count": null,
      "outputs": []
    },
    {
      "cell_type": "markdown",
      "metadata": {
        "id": "jr7KbBSeOHYM"
      },
      "source": [
        "**Word2Vec** is a simple Neural Network with one hidden layer & has weights and during training, its goal is to adjust those weights to reduce the loss function.\n",
        "\n",
        "During the training, weights are adjusted through back-propagation. Once the training is completed, instead of taking the entire model, we just take the **hidden weights** which are our word embeddings.\n",
        "\n",
        "Word vectors are positioned in the vector space such that words that share common contexts in the corpus are located in close proximity to one another in the space.\n",
        "\n",
        "Gensim is an Open Source Python Library which can be used to implement Word2Vec."
      ]
    },
    {
      "cell_type": "code",
      "metadata": {
        "colab": {
          "base_uri": "https://localhost:8080/"
        },
        "id": "8OYZ2wh7OHYM",
        "outputId": "26153a5c-1a8c-4c70-acf0-3aaced3f11b6"
      },
      "source": [
        "import gensim \n",
        "\n",
        "EMBEDDING_DIM = 100\n",
        "model = gensim.models.Word2Vec(sentences = review_lines, size = EMBEDDING_DIM, window = 5, min_count= 1)\n",
        "\n",
        "words = list(model.wv.vocab)\n",
        "print(\"Vocabulary size : %d\" % len(words))"
      ],
      "execution_count": null,
      "outputs": [
        {
          "output_type": "stream",
          "text": [
            "Vocabulary size : 134156\n"
          ],
          "name": "stdout"
        }
      ]
    },
    {
      "cell_type": "markdown",
      "metadata": {
        "id": "rc7ybbO7OHYM"
      },
      "source": [
        "**Saving** the word2vec model in ASCII (word2vec) format"
      ]
    },
    {
      "cell_type": "code",
      "metadata": {
        "colab": {
          "base_uri": "https://localhost:8080/"
        },
        "id": "I8MiZMEzOHYM",
        "outputId": "7eb5a835-1f4e-417f-f501-9ce158b35260"
      },
      "source": [
        "model.wv.most_similar('director')"
      ],
      "execution_count": null,
      "outputs": [
        {
          "output_type": "stream",
          "text": [
            "/usr/local/lib/python3.6/dist-packages/gensim/matutils.py:737: FutureWarning: Conversion of the second argument of issubdtype from `int` to `np.signedinteger` is deprecated. In future, it will be treated as `np.int64 == np.dtype(int).type`.\n",
            "  if np.issubdtype(vec.dtype, np.int):\n"
          ],
          "name": "stderr"
        },
        {
          "output_type": "execute_result",
          "data": {
            "text/plain": [
              "[('filmmaker', 0.7425057291984558),\n",
              " ('directors', 0.6765028238296509),\n",
              " ('altman', 0.6640037298202515),\n",
              " ('screenwriter', 0.6615777015686035),\n",
              " ('writerdirector', 0.6577248573303223),\n",
              " ('directorial', 0.6383994817733765),\n",
              " ('writer', 0.5920476317405701),\n",
              " ('firsttime', 0.5821404457092285),\n",
              " ('filmmakers', 0.5797792673110962),\n",
              " ('lumet', 0.5786563158035278)]"
            ]
          },
          "metadata": {
            "tags": []
          },
          "execution_count": 21
        }
      ]
    },
    {
      "cell_type": "markdown",
      "metadata": {
        "id": "m8Cl2p0OOHYM"
      },
      "source": [
        "Lets test our Word2Vec Model to see how it performs using utility functions provided in Gensim"
      ]
    },
    {
      "cell_type": "code",
      "metadata": {
        "id": "I6dJjbPVOHYM"
      },
      "source": [
        ""
      ],
      "execution_count": null,
      "outputs": []
    },
    {
      "cell_type": "markdown",
      "metadata": {
        "id": "_Ci06yoUOHYM"
      },
      "source": [
        "Let’s see the result of semantically reasonable word vectors (actress - actor + heroine)\n"
      ]
    },
    {
      "cell_type": "code",
      "metadata": {
        "colab": {
          "base_uri": "https://localhost:8080/"
        },
        "id": "jOIYE320OHYM",
        "outputId": "bc5efa87-4bbc-480f-c411-db6bfbcf3f5d"
      },
      "source": [
        "model.wv.most_similar(positive = ['actress', 'heroine'], negative= ['actor'])"
      ],
      "execution_count": null,
      "outputs": [
        {
          "output_type": "stream",
          "text": [
            "/usr/local/lib/python3.6/dist-packages/gensim/matutils.py:737: FutureWarning: Conversion of the second argument of issubdtype from `int` to `np.signedinteger` is deprecated. In future, it will be treated as `np.int64 == np.dtype(int).type`.\n",
            "  if np.issubdtype(vec.dtype, np.int):\n"
          ],
          "name": "stderr"
        },
        {
          "output_type": "execute_result",
          "data": {
            "text/plain": [
              "[('vulnerable', 0.6955384016036987),\n",
              " ('protagonist', 0.6943674087524414),\n",
              " ('sexually', 0.6872923374176025),\n",
              " ('nurse', 0.6825191974639893),\n",
              " ('stepmother', 0.6788345575332642),\n",
              " ('lesbian', 0.676762044429779),\n",
              " ('imababebutimreallysensitiveinside', 0.6720120906829834),\n",
              " ('damsel', 0.6664069890975952),\n",
              " ('attraction', 0.6651390790939331),\n",
              " ('seductive', 0.6590262055397034)]"
            ]
          },
          "metadata": {
            "tags": []
          },
          "execution_count": 22
        }
      ]
    },
    {
      "cell_type": "markdown",
      "metadata": {
        "id": "1FScZb_nOHYM"
      },
      "source": [
        "**Odd One out** - Finding the odd word out of the given list of words"
      ]
    },
    {
      "cell_type": "code",
      "metadata": {
        "colab": {
          "base_uri": "https://localhost:8080/"
        },
        "id": "17-AzI0nOHYM",
        "outputId": "b475d658-bd29-4303-98b3-479e33d00596"
      },
      "source": [
        "print(model.wv.doesnt_match(\"film movie theatre tea\".split()))\n"
      ],
      "execution_count": null,
      "outputs": [
        {
          "output_type": "stream",
          "text": [
            "tea\n"
          ],
          "name": "stdout"
        },
        {
          "output_type": "stream",
          "text": [
            "/usr/local/lib/python3.6/dist-packages/gensim/models/keyedvectors.py:895: FutureWarning: arrays to stack must be passed as a \"sequence\" type such as list or tuple. Support for non-sequence iterables such as generators is deprecated as of NumPy 1.16 and will raise an error in the future.\n",
            "  vectors = vstack(self.word_vec(word, use_norm=True) for word in used_words).astype(REAL)\n",
            "/usr/local/lib/python3.6/dist-packages/gensim/matutils.py:737: FutureWarning: Conversion of the second argument of issubdtype from `int` to `np.signedinteger` is deprecated. In future, it will be treated as `np.int64 == np.dtype(int).type`.\n",
            "  if np.issubdtype(vec.dtype, np.int):\n"
          ],
          "name": "stderr"
        }
      ]
    },
    {
      "cell_type": "markdown",
      "metadata": {
        "id": "80HMaRNZOHYM"
      },
      "source": [
        "## Save model in ASCII (word2vec) format"
      ]
    },
    {
      "cell_type": "code",
      "metadata": {
        "id": "9C4xVD7vOHYM"
      },
      "source": [
        "filename = 'imdb_embedding_word2vec.txt'\n",
        "model.wv.save_word2vec_format(filename, binary = False)"
      ],
      "execution_count": null,
      "outputs": []
    },
    {
      "cell_type": "markdown",
      "metadata": {
        "id": "ll4iLOVKOHYM"
      },
      "source": [
        "## Load the embeddings from the file into a dictionary"
      ]
    },
    {
      "cell_type": "code",
      "metadata": {
        "id": "4paP4WoAOHYM"
      },
      "source": [
        "import os\n",
        "embeddings_index = {}\n",
        "f = open('imdb_embedding_word2vec.txt', encoding = 'utf-8')\n",
        "for line in f:\n",
        "  values = line.split()\n",
        "  word = values[0]\n",
        "  coefs = np.asarray(values[1:])\n",
        "  embeddings_index[word] = coefs\n",
        "f.close()"
      ],
      "execution_count": null,
      "outputs": []
    },
    {
      "cell_type": "markdown",
      "metadata": {
        "id": "DJHmwUlTOHYM"
      },
      "source": [
        "**Tokenization** is a way of separating a piece of text into smaller units called tokens. Here, tokens can be either words, characters, or subwords. \n",
        "\n",
        "**Padding** All the neural networks require to have inputs that have the same shape and size. However, when we pre-process and use the texts as inputs for our model e.g. LSTM, not all the sentences have the same length. In other words, naturally, some of the sentences are longer or shorter. We need to have the inputs with the same size, this is where the padding is necessary.\n",
        "\n",
        "**Splitting the data** "
      ]
    },
    {
      "cell_type": "code",
      "metadata": {
        "colab": {
          "base_uri": "https://localhost:8080/"
        },
        "id": "PaBMFIe1OHYM",
        "outputId": "b5e3cc46-9532-4ad7-cc88-d56261550373"
      },
      "source": [
        "from tensorflow.python.keras.preprocessing.text import Tokenizer\n",
        "from tensorflow.python.keras.preprocessing.sequence import pad_sequences\n",
        "import numpy as np\n",
        "\n",
        "#20% für training\n",
        "VALIDATION_SPLIT = 0.2\n",
        "\n",
        "tokenizer_obj = Tokenizer()\n",
        "tokenizer_obj.fit_on_texts(review_lines)\n",
        "sequences = tokenizer_obj.texts_to_sequences(review_lines)\n",
        "\n",
        "max_length = 100\n",
        "\n",
        "word_index = tokenizer_obj.word_index\n",
        "\n",
        "review_pad = pad_sequences(sequences,maxlen = max_length)\n",
        "sentiment = df['sentiment'].values\n",
        "\n",
        "print(review_pad.shape)\n",
        "print(sentiment.shape)\n",
        "\n",
        "indices = np.arange(review_pad.shape[0])\n",
        "np.random.shuffle(indices)\n",
        "review_pad = review_pad[indices]\n",
        "sentiment = sentiment[indices]\n",
        "num_validation_samples = int(VALIDATION_SPLIT* review_pad.shape[0])\n",
        "print(num_validation_samples)\n",
        "X_val_pad = review_pad[:num_validation_samples]\n",
        "y_val = sentiment[:num_validation_samples]\n",
        "\n",
        "X_train_pad = review_pad[num_validation_samples:]\n",
        "y_train = sentiment[num_validation_samples:]"
      ],
      "execution_count": null,
      "outputs": [
        {
          "output_type": "stream",
          "text": [
            "(50000, 100)\n",
            "(50000,)\n",
            "10000\n"
          ],
          "name": "stdout"
        }
      ]
    },
    {
      "cell_type": "code",
      "metadata": {
        "colab": {
          "base_uri": "https://localhost:8080/"
        },
        "id": "SWArR5vU2bZo",
        "outputId": "aab9738a-bd97-46e7-ef6e-c7051a465fea"
      },
      "source": [
        "indices = np.arange(review_pad.shape[0])\n",
        "indices"
      ],
      "execution_count": null,
      "outputs": [
        {
          "output_type": "execute_result",
          "data": {
            "text/plain": [
              "array([    0,     1,     2, ..., 49997, 49998, 49999])"
            ]
          },
          "metadata": {
            "tags": []
          },
          "execution_count": 36
        }
      ]
    },
    {
      "cell_type": "markdown",
      "metadata": {
        "id": "gUFEwVEsOHYM"
      },
      "source": [
        "## Splitting Train data further into Train & Test Sets"
      ]
    },
    {
      "cell_type": "code",
      "metadata": {
        "id": "QLaLRa0tOHYM"
      },
      "source": [
        "TEST_SPLIT= 0.1\n",
        "\n",
        "num_test_samples = int(TEST_SPLIT *   X_train_pad.shape[0])\n",
        "\n",
        "X_test_pad = X_train_pad[:num_test_samples]\n",
        "\n",
        "y_test = y_train[:num_test_samples]\n",
        "X_train_pad = X_train_pad[num_test_samples:]\n",
        "y_train = y_train[num_test_samples:]\n"
      ],
      "execution_count": null,
      "outputs": []
    },
    {
      "cell_type": "code",
      "metadata": {
        "colab": {
          "base_uri": "https://localhost:8080/"
        },
        "id": "X8-w2WhpgcNE",
        "outputId": "05a3e0ce-2031-42d5-979f-c30f0f03b075"
      },
      "source": [
        "X_train_pad"
      ],
      "execution_count": null,
      "outputs": [
        {
          "output_type": "execute_result",
          "data": {
            "text/plain": [
              "array([  873,  7767, 42033, 43485,  7502,  5973,  1122,  4039,     5,\n",
              "          19,    63,   101,     2,  2085,   615,    50,    35,   126,\n",
              "        2116,     2,     2,   869,   739,  4372,   206,  2372,   288,\n",
              "           5,  1446,  6651,   600,   121,   206,  2372,   288,    19,\n",
              "         505,   428, 46800,    68,    84,    28,    75,    94,   642,\n",
              "          17,   822,    99,    70,    39,    57,     2,   688, 53848,\n",
              "        4225, 11321, 19250, 21558, 18500,    35,   816,   310,  2286,\n",
              "         420,  8644,     8,    33,  1013, 18994,    33,    83,    18,\n",
              "          26,   148, 10805,  3606, 18728,    49,  2925,    35,    44,\n",
              "         351,  6575,    34,   487,    43,   306,    56,  4060,  1190],\n",
              "      dtype=int32)"
            ]
          },
          "metadata": {
            "tags": []
          },
          "execution_count": 40
        }
      ]
    },
    {
      "cell_type": "code",
      "metadata": {
        "colab": {
          "base_uri": "https://localhost:8080/"
        },
        "id": "dDxRSRZaOHYM",
        "outputId": "5c303d49-3c77-4d49-a0b4-aafec0be2fbc"
      },
      "source": [
        "print(X_train_pad.shape)\n",
        "print(y_train.shape)\n",
        "\n",
        "print(X_val_pad.shape)\n",
        "print(y_val.shape)\n",
        "\n",
        "print(X_test_pad.shape)\n",
        "print(y_test.shape)"
      ],
      "execution_count": null,
      "outputs": [
        {
          "output_type": "stream",
          "text": [
            "(36000, 100)\n",
            "(36000,)\n",
            "(10000, 100)\n",
            "(10000,)\n",
            "(10000, 100)\n",
            "(4000,)\n"
          ],
          "name": "stdout"
        }
      ]
    },
    {
      "cell_type": "markdown",
      "metadata": {
        "id": "bdKzNwgJOHYM"
      },
      "source": [
        "## Creating an Embedding Matrix"
      ]
    },
    {
      "cell_type": "code",
      "metadata": {
        "id": "A7lLMQN7OHYM"
      },
      "source": [
        "EMBEDDING_DIM = 100\n",
        "num_words = len(word_index) +1\n",
        "embedding_matrix = np.zeros((num_words, EMBEDDING_DIM))\n",
        "\n",
        "for word, i in word_index.items():\n",
        "  if i> num_words:\n",
        "    continue\n",
        "  embedding_vector = embeddings_index.get(word)\n",
        "  if embedding_vector is not None:\n",
        "    embedding_matrix[i] = embedding_vector"
      ],
      "execution_count": null,
      "outputs": []
    },
    {
      "cell_type": "code",
      "metadata": {
        "id": "7gFxFrVu3wVd"
      },
      "source": [
        ""
      ],
      "execution_count": null,
      "outputs": []
    },
    {
      "cell_type": "markdown",
      "metadata": {
        "id": "deh3d5nnOHYM"
      },
      "source": [
        "## Training \n",
        "\n",
        "Defining the Model\n",
        "\n",
        "In Keras, A **Sequential model** is appropriate for a plain stack of layers where each layer has exactly one input tensor and one output tensor.\n",
        "1. Load pre-trained word embeddings into an Embedding layer\n",
        "\n",
        "2. Adding LSTM Layer\n",
        "\n",
        "3. Adding Dense Layer\n",
        "\n",
        "**model.compile** used to Configures the model for training.\n",
        "\n",
        "\n",
        "**model.add()** function is used to add layers to our model."
      ]
    },
    {
      "cell_type": "code",
      "metadata": {
        "id": "KbmPrN0XOHYM",
        "colab": {
          "base_uri": "https://localhost:8080/"
        },
        "outputId": "7799e200-c14b-44db-b8c3-2c8118a9f88b"
      },
      "source": [
        "from keras.models import Sequential\n",
        "from keras.layers import Dense, Embedding, LSTM\n",
        "from keras.layers.embeddings import Embedding\n",
        "from keras.initializers import Constant\n",
        "\n",
        "model = Sequential()\n",
        "embedding_layer = Embedding(num_words,\n",
        "                            EMBEDDING_DIM,\n",
        "                            embeddings_initializer = Constant(embedding_matrix),\n",
        "                            #input_lenght = max_length\n",
        "                            trainable = False)\n",
        "\n",
        "model.add(embedding_layer)\n",
        "model.add(LSTM(units=32, dropout=0.2,recurrent_dropout= 0.2))\n",
        "model.add(Dense(1,activation= 'sigmoid'))\n",
        "\n",
        "model.compile(loss = 'binary_crossentropy', optimizer = 'adam', metrics = ['accuracy'])\n",
        "\n",
        "print('Summary of the built..')\n",
        "print(model.summary())\n"
      ],
      "execution_count": null,
      "outputs": [
        {
          "output_type": "stream",
          "text": [
            "Summary of the built..\n",
            "Model: \"sequential_10\"\n",
            "_________________________________________________________________\n",
            "Layer (type)                 Output Shape              Param #   \n",
            "=================================================================\n",
            "embedding_2 (Embedding)      (None, None, 100)         13415700  \n",
            "_________________________________________________________________\n",
            "lstm_2 (LSTM)                (None, 32)                17024     \n",
            "_________________________________________________________________\n",
            "dense_2 (Dense)              (None, 1)                 33        \n",
            "=================================================================\n",
            "Total params: 13,432,757\n",
            "Trainable params: 17,057\n",
            "Non-trainable params: 13,415,700\n",
            "_________________________________________________________________\n",
            "None\n"
          ],
          "name": "stdout"
        }
      ]
    },
    {
      "cell_type": "code",
      "metadata": {
        "id": "eBZP6dhJ--Oi"
      },
      "source": [
        ""
      ],
      "execution_count": null,
      "outputs": []
    },
    {
      "cell_type": "markdown",
      "metadata": {
        "id": "hN66wHv2OHYM"
      },
      "source": [
        "## Training the Model\n",
        "\n",
        "Use the .fit method.\n",
        "\n",
        "Assign the model.fit() method to a variable, which will store the Training, Validation Loss and Accuracy for each epoch. "
      ]
    },
    {
      "cell_type": "code",
      "metadata": {
        "id": "zFqLs0DzOHYM",
        "colab": {
          "base_uri": "https://localhost:8080/"
        },
        "outputId": "f1c17fe4-e326-4c88-cfe4-8c94f9f92c97"
      },
      "source": [
        "history = model.fit(X_train_pad, y_train, batch_size = 128, epochs = 10,\n",
        "                    validation_data = (X_val_pad, y_val), verbose = 2)"
      ],
      "execution_count": null,
      "outputs": [
        {
          "output_type": "stream",
          "text": [
            "Epoch 1/10\n",
            "282/282 - 51s - loss: 0.4771 - accuracy: 0.7679 - val_loss: 0.4181 - val_accuracy: 0.8165\n",
            "Epoch 2/10\n",
            "282/282 - 50s - loss: 0.3742 - accuracy: 0.8325 - val_loss: 0.3437 - val_accuracy: 0.8501\n",
            "Epoch 3/10\n",
            "282/282 - 50s - loss: 0.3481 - accuracy: 0.8466 - val_loss: 0.3428 - val_accuracy: 0.8500\n",
            "Epoch 4/10\n",
            "282/282 - 50s - loss: 0.3301 - accuracy: 0.8565 - val_loss: 0.3133 - val_accuracy: 0.8641\n",
            "Epoch 5/10\n",
            "282/282 - 50s - loss: 0.3180 - accuracy: 0.8622 - val_loss: 0.3160 - val_accuracy: 0.8677\n",
            "Epoch 6/10\n",
            "282/282 - 50s - loss: 0.3097 - accuracy: 0.8674 - val_loss: 0.3049 - val_accuracy: 0.8711\n",
            "Epoch 7/10\n",
            "282/282 - 50s - loss: 0.3016 - accuracy: 0.8707 - val_loss: 0.3029 - val_accuracy: 0.8706\n",
            "Epoch 8/10\n",
            "282/282 - 50s - loss: 0.2972 - accuracy: 0.8733 - val_loss: 0.3000 - val_accuracy: 0.8745\n",
            "Epoch 9/10\n",
            "282/282 - 51s - loss: 0.2890 - accuracy: 0.8764 - val_loss: 0.2955 - val_accuracy: 0.8766\n",
            "Epoch 10/10\n",
            "282/282 - 50s - loss: 0.2851 - accuracy: 0.8775 - val_loss: 0.2980 - val_accuracy: 0.8758\n"
          ],
          "name": "stdout"
        }
      ]
    },
    {
      "cell_type": "markdown",
      "metadata": {
        "id": "UGRGKHPvOHYM"
      },
      "source": [
        "## Evaluating the Model on Test Set\n",
        "\n",
        "**Score** is the evaluation of the loss function for a given input.\n",
        "\n",
        "**Accuracy** How accurate your model's prediction is compared to the true data.\n"
      ]
    },
    {
      "cell_type": "code",
      "metadata": {
        "id": "OE3WO9S-OHYM",
        "colab": {
          "base_uri": "https://localhost:8080/"
        },
        "outputId": "6cdb5f53-db04-4134-c649-dee93ffe2051"
      },
      "source": [
        "score, acc = model.evaluate(X_test_pad, y_test, batch_size= 128)\n",
        "\n",
        "print('Test score: ', score)\n",
        "print('Test accuracy: ', acc)"
      ],
      "execution_count": null,
      "outputs": [
        {
          "output_type": "stream",
          "text": [
            "29/29 [==============================] - 1s 26ms/step - loss: 0.2560 - accuracy: 0.8958\n",
            "Test score:  0.2560120224952698\n",
            "Test accuracy:  0.8958333134651184\n"
          ],
          "name": "stdout"
        }
      ]
    },
    {
      "cell_type": "markdown",
      "metadata": {
        "id": "UJC3qLt9OHYM"
      },
      "source": [
        "## Plotting the Accuracy and Loss "
      ]
    },
    {
      "cell_type": "code",
      "metadata": {
        "id": "P7j51kGrOHYM",
        "colab": {
          "base_uri": "https://localhost:8080/",
          "height": 590
        },
        "outputId": "c1281eed-5111-4e70-e765-d55ca684afc1"
      },
      "source": [
        "print(history.history.keys())\n",
        "plt.plot(history.history['accuracy'])\n",
        "plt.plot(history.history['val_accuracy'])\n",
        "plt.title('model accuracy')\n",
        "plt.ylabel('accuracy')\n",
        "plt.xlabel('epoch')\n",
        "plt.legend(['train', 'validation'], loc = 'upper left')\n",
        "plt.show()\n",
        "\n",
        "\n",
        "plt.plot(history.history['loss'])\n",
        "plt.plot(history.history['val_loss'])\n",
        "plt.title('model loss')\n",
        "plt.ylabel('loss')\n",
        "plt.xlabel('epoch')\n",
        "plt.legend(['train', 'validation'], loc = 'upper left')\n",
        "plt.show()"
      ],
      "execution_count": null,
      "outputs": [
        {
          "output_type": "stream",
          "text": [
            "dict_keys(['loss', 'accuracy', 'val_loss', 'val_accuracy'])\n"
          ],
          "name": "stdout"
        },
        {
          "output_type": "display_data",
          "data": {
            "image/png": "[encoded data removed]",
            "text/plain": [
              "<Figure size 432x288 with 1 Axes>"
            ]
          },
          "metadata": {
            "tags": [],
            "needs_background": "light"
          }
        },
        {
          "output_type": "display_data",
          "data": {
            "image/png": "[encoded data removed]",
            "text/plain": [
              "<Figure size 432x288 with 1 Axes>"
            ]
          },
          "metadata": {
            "tags": [],
            "needs_background": "light"
          }
        }
      ]
    },
    {
      "cell_type": "markdown",
      "metadata": {
        "id": "weJt4JlbOHYM"
      },
      "source": [
        "## Testing the Model on Sample data\n"
      ]
    },
    {
      "cell_type": "code",
      "metadata": {
        "id": "JJd9pZ_HOHYM",
        "colab": {
          "base_uri": "https://localhost:8080/"
        },
        "outputId": "3da49d65-9bc7-4c5b-dfaf-20eceada558e"
      },
      "source": [
        "test_sample_1 = \"The Movie was fantastic! I liked it\"\n",
        "test_sample_2 = \"Not a great movie, it was really bad..\"\n",
        "\n",
        "test_samples = [test_sample_1, test_sample_2]\n",
        "test_samples_tokens = tokenizer_obj.texts_to_sequences(test_samples)\n",
        "test_samples_tokens_pad = pad_sequences(test_samples_tokens, maxlen=100)\n",
        "\n",
        "#predict\n",
        "model.predict(x = test_samples_tokens_pad)"
      ],
      "execution_count": null,
      "outputs": [
        {
          "output_type": "execute_result",
          "data": {
            "text/plain": [
              "array([[0.9639213],\n",
              "       [0.3837627]], dtype=float32)"
            ]
          },
          "metadata": {
            "tags": []
          },
          "execution_count": 70
        }
      ]
    }
  ]
}